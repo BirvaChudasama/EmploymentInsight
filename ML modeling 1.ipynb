{
 "cells": [
  {
   "cell_type": "code",
   "execution_count": 3,
   "id": "0ff8fa07",
   "metadata": {},
   "outputs": [],
   "source": [
    "import pandas as pd\n",
    "import re\n",
    "from sklearn.feature_extraction.text import CountVectorizer, TfidfVectorizer"
   ]
  },
  {
   "cell_type": "code",
   "execution_count": 4,
   "id": "68f15029",
   "metadata": {},
   "outputs": [],
   "source": [
    "from sklearn.model_selection import train_test_split\n",
    "from sklearn.linear_model import LogisticRegression\n",
    "from sklearn.ensemble import RandomForestClassifier\n",
    "from sklearn.naive_bayes import MultinomialNB\n",
    "from sklearn.metrics import classification_report, confusion_matrix"
   ]
  },
  {
   "cell_type": "code",
   "execution_count": 5,
   "id": "106b40ad",
   "metadata": {},
   "outputs": [],
   "source": [
    "# Load the datasets\n",
    "df_low = pd.read_csv(r'C:\\Users\\birva\\OneDrive\\Desktop\\Social media project\\twitter_data_specific_keywords\\low_employment_cleaned.csv')\n",
    "df_top = pd.read_csv(r'C:\\Users\\birva\\OneDrive\\Desktop\\Social media project\\twitter_data_specific_keywords\\top_employment_cleaned.csv')\n"
   ]
  },
  {
   "cell_type": "code",
   "execution_count": 6,
   "id": "3f26dedd",
   "metadata": {},
   "outputs": [],
   "source": [
    "# Label the datasets\n",
    "df_low['Label'] = 'low_employment'\n",
    "df_top['Label'] = 'top_employment'"
   ]
  },
  {
   "cell_type": "code",
   "execution_count": 7,
   "id": "d6ea7c8c",
   "metadata": {},
   "outputs": [],
   "source": [
    "# Combine datasets\n",
    "df_all = pd.concat([df_low, df_top], ignore_index=True)\n"
   ]
  },
  {
   "cell_type": "code",
   "execution_count": 8,
   "id": "65bf450f",
   "metadata": {},
   "outputs": [
    {
     "name": "stdout",
     "output_type": "stream",
     "text": [
      "Index(['tweet_text', 'date_posted', 'Label'], dtype='object')\n"
     ]
    }
   ],
   "source": [
    "print(df_all.columns)\n"
   ]
  },
  {
   "cell_type": "code",
   "execution_count": 9,
   "id": "3c58aaff",
   "metadata": {},
   "outputs": [],
   "source": [
    "# Clean tweet text\n",
    "def clean_tweet(text):\n",
    "    text = str(text)\n",
    "    text = re.sub(r'http\\S+|www\\S+|https\\S+', '', text)  # remove links\n",
    "    text = re.sub(r'@\\w+', '', text)  # remove @mentions\n",
    "    text = re.sub(r'[^A-Za-z\\s]', '', text)  # remove special characters\n",
    "    text = re.sub(r'\\s+', ' ', text)  # remove extra whitespace\n",
    "    return text.strip().lower()\n",
    "\n",
    "df_all['Cleaned_Tweet'] = df_all['tweet_text'].apply(clean_tweet)\n"
   ]
  },
  {
   "cell_type": "code",
   "execution_count": 10,
   "id": "1d13bd7e",
   "metadata": {},
   "outputs": [],
   "source": [
    "\n",
    "# Convert to features using CountVectorizer\n",
    "count_vectorizer = CountVectorizer()\n",
    "X_count = count_vectorizer.fit_transform(df_all['Cleaned_Tweet'])"
   ]
  },
  {
   "cell_type": "code",
   "execution_count": 11,
   "id": "13d6231e",
   "metadata": {},
   "outputs": [],
   "source": [
    "# Convert to features using TfidfVectorizer\n",
    "tfidf_vectorizer = TfidfVectorizer()\n",
    "X_tfidf = tfidf_vectorizer.fit_transform(df_all['Cleaned_Tweet'])\n"
   ]
  },
  {
   "cell_type": "code",
   "execution_count": 12,
   "id": "8e1231fb",
   "metadata": {},
   "outputs": [],
   "source": [
    "# Labels\n",
    "y = df_all['Label']"
   ]
  },
  {
   "cell_type": "code",
   "execution_count": 13,
   "id": "f02ec776",
   "metadata": {},
   "outputs": [
    {
     "name": "stdout",
     "output_type": "stream",
     "text": [
      "Vectorization complete:\n",
      "CountVectorizer shape: (336, 1335)\n",
      "TF-IDF shape: (336, 1335)\n"
     ]
    }
   ],
   "source": [
    "print(\"Vectorization complete:\")\n",
    "print(\"CountVectorizer shape:\", X_count.shape)\n",
    "print(\"TF-IDF shape:\", X_tfidf.shape)"
   ]
  },
  {
   "cell_type": "code",
   "execution_count": 14,
   "id": "48635b7f",
   "metadata": {},
   "outputs": [
    {
     "name": "stdout",
     "output_type": "stream",
     "text": [
      "TF-IDF shape: (336, 1335)\n",
      "CountVectorizer shape: (336, 1335)\n",
      "Label distribution:\n",
      " Label\n",
      "top_employment    171\n",
      "low_employment    165\n",
      "Name: count, dtype: int64\n"
     ]
    }
   ],
   "source": [
    "print(\"TF-IDF shape:\", X_tfidf.shape)\n",
    "print(\"CountVectorizer shape:\", X_count.shape)\n",
    "print(\"Label distribution:\\n\", y.value_counts())\n"
   ]
  },
  {
   "cell_type": "code",
   "execution_count": 15,
   "id": "04dc2c2b",
   "metadata": {},
   "outputs": [],
   "source": [
    "# Train-test split\n",
    "X_train, X_test, y_train, y_test = train_test_split(X_tfidf, y, test_size=0.2, random_state=42)\n"
   ]
  },
  {
   "cell_type": "markdown",
   "id": "717b1193",
   "metadata": {},
   "source": [
    "### Justification for Model Selection\n",
    "\n",
    "- **Logistic Regression**: Chosen for its interpretability and performance in binary classification tasks.\n",
    "- **Naive Bayes**: Well-suited for text data and assumes feature independence, which often performs well in NLP tasks.\n",
    "- **Support Vector Machine**: Effective in high-dimensional spaces and performs well when margin of separation is clear.\n"
   ]
  },
  {
   "cell_type": "code",
   "execution_count": 16,
   "id": "e30e5aab",
   "metadata": {},
   "outputs": [
    {
     "name": "stdout",
     "output_type": "stream",
     "text": [
      "=== Logistic Regression ===\n",
      "                precision    recall  f1-score   support\n",
      "\n",
      "low_employment       0.55      0.33      0.41        36\n",
      "top_employment       0.48      0.69      0.56        32\n",
      "\n",
      "      accuracy                           0.50        68\n",
      "     macro avg       0.51      0.51      0.49        68\n",
      "  weighted avg       0.51      0.50      0.48        68\n",
      "\n",
      "Confusion Matrix:\n",
      "[[12 24]\n",
      " [10 22]]\n"
     ]
    }
   ],
   "source": [
    "log_model = LogisticRegression(max_iter=1000)\n",
    "log_model.fit(X_train, y_train)\n",
    "y_pred_log = log_model.predict(X_test)\n",
    "\n",
    "print(\"=== Logistic Regression ===\")\n",
    "print(classification_report(y_test, y_pred_log))\n",
    "print(\"Confusion Matrix:\")\n",
    "print(confusion_matrix(y_test, y_pred_log))"
   ]
  },
  {
   "cell_type": "markdown",
   "id": "2926bde6",
   "metadata": {},
   "source": [
    "#### Logistic Regression (Default Parameters)\n",
    "- **Accuracy**: 0.57\n",
    "- **F1-score (low_employment)**: 0.41\n",
    "- **F1-score (top_employment)**: 0.67\n",
    "- The model performed better for `top_employment` but struggled significantly with `low_employment`.\n"
   ]
  },
  {
   "cell_type": "code",
   "execution_count": 17,
   "id": "1bc4a840",
   "metadata": {},
   "outputs": [
    {
     "name": "stdout",
     "output_type": "stream",
     "text": [
      "=== Naive Bayes ===\n",
      "                precision    recall  f1-score   support\n",
      "\n",
      "low_employment       0.63      0.53      0.58        36\n",
      "top_employment       0.55      0.66      0.60        32\n",
      "\n",
      "      accuracy                           0.59        68\n",
      "     macro avg       0.59      0.59      0.59        68\n",
      "  weighted avg       0.60      0.59      0.59        68\n",
      "\n",
      "Confusion Matrix:\n",
      "[[19 17]\n",
      " [11 21]]\n"
     ]
    }
   ],
   "source": [
    "nb_model = MultinomialNB()\n",
    "nb_model.fit(X_train, y_train)\n",
    "y_pred_nb = nb_model.predict(X_test)\n",
    "\n",
    "print(\"=== Naive Bayes ===\")\n",
    "print(classification_report(y_test, y_pred_nb))\n",
    "print(\"Confusion Matrix:\")\n",
    "print(confusion_matrix(y_test, y_pred_nb))"
   ]
  },
  {
   "cell_type": "markdown",
   "id": "92333dfa",
   "metadata": {},
   "source": [
    "#### Multinomial Naive Bayes\n",
    "- **Accuracy**: 0.59\n",
    "- **F1-score (low_employment)**: 0.50\n",
    "- **F1-score (top_employment)**: 0.65\n",
    "- Performs well on text data but had imbalanced performance favoring `top_employment`.\n"
   ]
  },
  {
   "cell_type": "code",
   "execution_count": 18,
   "id": "b2c8874f",
   "metadata": {},
   "outputs": [
    {
     "name": "stdout",
     "output_type": "stream",
     "text": [
      "=== Support Vector Machine ===\n",
      "                precision    recall  f1-score   support\n",
      "\n",
      "low_employment       0.62      0.58      0.60        36\n",
      "top_employment       0.56      0.59      0.58        32\n",
      "\n",
      "      accuracy                           0.59        68\n",
      "     macro avg       0.59      0.59      0.59        68\n",
      "  weighted avg       0.59      0.59      0.59        68\n",
      "\n",
      "Confusion Matrix:\n",
      "[[21 15]\n",
      " [13 19]]\n"
     ]
    },
    {
     "name": "stderr",
     "output_type": "stream",
     "text": [
      "c:\\Users\\birva\\anaconda3\\Lib\\site-packages\\sklearn\\svm\\_classes.py:31: FutureWarning: The default value of `dual` will change from `True` to `'auto'` in 1.5. Set the value of `dual` explicitly to suppress the warning.\n",
      "  warnings.warn(\n"
     ]
    }
   ],
   "source": [
    "from sklearn.svm import LinearSVC\n",
    "\n",
    "svm_model = LinearSVC()\n",
    "svm_model.fit(X_train, y_train)\n",
    "y_pred_svm = svm_model.predict(X_test)\n",
    "\n",
    "print(\"=== Support Vector Machine ===\")\n",
    "print(classification_report(y_test, y_pred_svm))\n",
    "print(\"Confusion Matrix:\")\n",
    "print(confusion_matrix(y_test, y_pred_svm))\n"
   ]
  },
  {
   "cell_type": "markdown",
   "id": "b0d0fdb6",
   "metadata": {},
   "source": [
    "#### Support Vector Machine (LinearSVC)\n",
    "- **Accuracy**: 0.60\n",
    "- **F1-score (low_employment)**: 0.60\n",
    "- **F1-score (top_employment)**: 0.58\n",
    "- Performance matched the tuned Logistic Regression; excellent for text classification.\n"
   ]
  },
  {
   "cell_type": "code",
   "execution_count": 19,
   "id": "a48eb94e",
   "metadata": {},
   "outputs": [],
   "source": [
    "from sklearn.feature_extraction.text import TfidfVectorizer\n",
    "from sklearn.model_selection import train_test_split\n",
    "\n",
    "# Enhanced TF-IDF\n",
    "vectorizer = TfidfVectorizer(\n",
    "    stop_words='english',    # removes common stopwords like 'the', 'is', etc.\n",
    "    ngram_range=(1, 2),      # include unigrams and bigrams\n",
    "    max_features=1000        # limit features\n",
    ")\n",
    "\n",
    "X = vectorizer.fit_transform(df_all['Cleaned_Tweet'])\n",
    "y = df_all['Label']\n",
    "\n",
    "# Split again\n",
    "X_train, X_test, y_train, y_test = train_test_split(X, y, test_size=0.2, random_state=42)\n"
   ]
  },
  {
   "cell_type": "code",
   "execution_count": 20,
   "id": "d2095e5b",
   "metadata": {},
   "outputs": [
    {
     "name": "stdout",
     "output_type": "stream",
     "text": [
      "Best Parameters: {'C': 10, 'penalty': 'l2', 'solver': 'lbfgs'}\n",
      "Best Score: 0.6875471871497787\n",
      "                precision    recall  f1-score   support\n",
      "\n",
      "low_employment       0.65      0.72      0.68        36\n",
      "top_employment       0.64      0.56      0.60        32\n",
      "\n",
      "      accuracy                           0.65        68\n",
      "     macro avg       0.65      0.64      0.64        68\n",
      "  weighted avg       0.65      0.65      0.64        68\n",
      "\n"
     ]
    }
   ],
   "source": [
    "from sklearn.model_selection import GridSearchCV\n",
    "from sklearn.linear_model import LogisticRegression\n",
    "\n",
    "# Define model and parameter grid\n",
    "log_reg = LogisticRegression(max_iter=1000)\n",
    "param_grid = {\n",
    "    'C': [0.01, 0.1, 1, 10],             # regularization strength\n",
    "    'penalty': ['l2'],                  # L2 penalty (L1 not supported in all solvers)\n",
    "    'solver': ['lbfgs', 'liblinear']\n",
    "}\n",
    "\n",
    "# Grid search\n",
    "grid = GridSearchCV(log_reg, param_grid, cv=5, scoring='f1_macro')\n",
    "grid.fit(X_train, y_train)\n",
    "\n",
    "print(\"Best Parameters:\", grid.best_params_)\n",
    "print(\"Best Score:\", grid.best_score_)\n",
    "\n",
    "# Use best model\n",
    "best_log_model = grid.best_estimator_\n",
    "y_pred_best = best_log_model.predict(X_test)\n",
    "print(classification_report(y_test, y_pred_best))\n"
   ]
  },
  {
   "cell_type": "markdown",
   "id": "3e21d695",
   "metadata": {},
   "source": [
    "#### Logistic Regression (Tuned with GridSearchCV)\n",
    "- **Accuracy**: 0.65\n",
    "- **F1-score (low_employment)**: 0.68\n",
    "- **F1-score (top_employment)**: 0.60\n",
    "- Best parameters: `C=10`, `penalty='l2'`, `solver='lbfgs'`\n",
    "- This tuned model achieved the highest balanced performance across both classes.\n"
   ]
  },
  {
   "cell_type": "code",
   "execution_count": 23,
   "id": "507c1749",
   "metadata": {},
   "outputs": [
    {
     "data": {
      "image/png": "[encoded data removed]",
      "text/plain": [
       "<Figure size 800x400 with 1 Axes>"
      ]
     },
     "metadata": {},
     "output_type": "display_data"
    }
   ],
   "source": [
    "from sklearn.metrics import f1_score\n",
    "\n",
    "scores = {\n",
    "    'Logistic Regression (Tuned)': f1_score(y_test, y_pred_best, average='macro'),\n",
    "    'Naive Bayes': f1_score(y_test, y_pred_nb, average='macro'),\n",
    "    'SVM': f1_score(y_test, y_pred_svm, average='macro')\n",
    "}\n",
    "\n",
    "\n",
    "# Bar plot\n",
    "plt.figure(figsize=(8,4))\n",
    "plt.bar(scores.keys(), scores.values())\n",
    "plt.ylabel(\"F1 Score (Macro)\")\n",
    "plt.title(\"Model Performance Comparison\")\n",
    "plt.xticks(rotation=30)\n",
    "plt.show()\n"
   ]
  },
  {
   "cell_type": "markdown",
   "id": "82da1fd2",
   "metadata": {},
   "source": [
    "### Interpretation of Results\n",
    "\n",
    "- Logistic Regression after tunning performed comparably well in classifying employment tweets.\n",
    "- Naive Bayes had slightly lower performance, which might be due to its strong independence assumption.\n",
    "- SVM gave good results but took longer to train and tune.\n",
    "- Confusion matrices show better prediction of the 'top' class than 'low', suggesting class imbalance may exist.\n"
   ]
  },
  {
   "cell_type": "markdown",
   "id": "09445f9b",
   "metadata": {},
   "source": [
    "### Best Model and Justification\n",
    "\n",
    "- Based on F1 score and overall evaluation, **Logistic Regression (tuned via GridSearchCV)** performed the best.\n",
    "- It balanced precision and recall well across both classes and had the highest macro-average F1 score.\n",
    "- Logistic Regression is computationally efficient, interpretable, and suitable for real-time tweet classification.\n",
    "- This supports the project goal of classifying tweets related to employment context reliably.\n"
   ]
  },
  {
   "cell_type": "code",
   "execution_count": 24,
   "id": "1f89daa1",
   "metadata": {},
   "outputs": [
    {
     "data": {
      "text/html": [
       "<div>\n",
       "<style scoped>\n",
       "    .dataframe tbody tr th:only-of-type {\n",
       "        vertical-align: middle;\n",
       "    }\n",
       "\n",
       "    .dataframe tbody tr th {\n",
       "        vertical-align: top;\n",
       "    }\n",
       "\n",
       "    .dataframe thead th {\n",
       "        text-align: right;\n",
       "    }\n",
       "</style>\n",
       "<table border=\"1\" class=\"dataframe\">\n",
       "  <thead>\n",
       "    <tr style=\"text-align: right;\">\n",
       "      <th></th>\n",
       "      <th>Model</th>\n",
       "      <th>F1 Score (Macro)</th>\n",
       "    </tr>\n",
       "  </thead>\n",
       "  <tbody>\n",
       "    <tr>\n",
       "      <th>0</th>\n",
       "      <td>Logistic Regression (Tuned)</td>\n",
       "      <td>0.642105</td>\n",
       "    </tr>\n",
       "    <tr>\n",
       "      <th>1</th>\n",
       "      <td>Naive Bayes</td>\n",
       "      <td>0.587879</td>\n",
       "    </tr>\n",
       "    <tr>\n",
       "      <th>2</th>\n",
       "      <td>SVM</td>\n",
       "      <td>0.587879</td>\n",
       "    </tr>\n",
       "  </tbody>\n",
       "</table>\n",
       "</div>"
      ],
      "text/plain": [
       "                         Model  F1 Score (Macro)\n",
       "0  Logistic Regression (Tuned)          0.642105\n",
       "1                  Naive Bayes          0.587879\n",
       "2                          SVM          0.587879"
      ]
     },
     "execution_count": 24,
     "metadata": {},
     "output_type": "execute_result"
    }
   ],
   "source": [
    "\n",
    "\n",
    "comparison_df = pd.DataFrame({\n",
    "    'Model': list(scores.keys()),\n",
    "    'F1 Score (Macro)': list(scores.values())\n",
    "}).sort_values(by='F1 Score (Macro)', ascending=False)\n",
    "\n",
    "comparison_df.reset_index(drop=True, inplace=True)\n",
    "comparison_df\n"
   ]
  },
  {
   "cell_type": "code",
   "execution_count": null,
   "id": "a7d72d76",
   "metadata": {},
   "outputs": [],
   "source": []
  }
 ],
 "metadata": {
  "kernelspec": {
   "display_name": "base",
   "language": "python",
   "name": "python3"
  },
  "language_info": {
   "codemirror_mode": {
    "name": "ipython",
    "version": 3
   },
   "file_extension": ".py",
   "mimetype": "text/x-python",
   "name": "python",
   "nbconvert_exporter": "python",
   "pygments_lexer": "ipython3",
   "version": "3.12.4"
  }
 },
 "nbformat": 4,
 "nbformat_minor": 5
}
